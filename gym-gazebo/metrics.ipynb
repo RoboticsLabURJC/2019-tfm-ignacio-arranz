{
 "cells": [
  {
   "cell_type": "code",
   "execution_count": 21,
   "metadata": {},
   "outputs": [
    {
     "name": "stdout",
     "output_type": "stream",
     "text": [
      "8\n"
     ]
    }
   ],
   "source": [
    "import os\n",
    "import pickle\n",
    "import pprint\n",
    "import matplotlib.pyplot as plt\n",
    "\n",
    "data_path = \"./agents/f1/logs/qlearn_models/qlearn_camera_solved/\"\n",
    "available_folders = [\"1\", \"3\"]\n",
    "print(len(os.listdir(data_path)))"
   ]
  },
  {
   "cell_type": "code",
   "execution_count": 137,
   "metadata": {
    "collapsed": true,
    "jupyter": {
     "outputs_hidden": true
    }
   },
   "outputs": [
    {
     "name": "stdout",
     "output_type": "stream",
     "text": [
      "\n",
      "Folder: points_1_actions_hard__simple_circuit\n",
      "experiment: 1\n",
      "./agents/f1/logs/qlearn_models/qlearn_camera_solved/points_1_actions_hard__simple_circuit/1/1_20200917_2218_qlearn_circuit_simple_act_set_hard_e_0.87_epoch_3.pkl\n",
      "./agents/f1/logs/qlearn_models/qlearn_camera_solved/points_1_actions_hard__simple_circuit/1/2_20200917_2218_qlearn_circuit_simple_act_set_hard_e_0.87_epoch_3_states_dictionary.pkl\n",
      "./agents/f1/logs/qlearn_models/qlearn_camera_solved/points_1_actions_hard__simple_circuit/1/3_20200917_2218_qlearn_circuit_simple_act_set_hard_e_0.87_epoch_3_states_dictionary_states_rewards.pkl\n",
      "readed\n",
      "experiment: 2\n",
      "./agents/f1/logs/qlearn_models/qlearn_camera_solved/points_1_actions_hard__simple_circuit/2/1_20200918_1736_qlearn_circuit_simple_act_set_hard_e_0.88_epoch_25.pkl\n",
      "./agents/f1/logs/qlearn_models/qlearn_camera_solved/points_1_actions_hard__simple_circuit/2/2_20200918_1736_qlearn_circuit_simple_act_set_hard_e_0.88_epoch_25_states_dictionary.pkl\n",
      "./agents/f1/logs/qlearn_models/qlearn_camera_solved/points_1_actions_hard__simple_circuit/2/3_20200918_1736_qlearn_circuit_simple_act_set_hard_e_0.88_epoch_25_states_dictionary_states_rewards.pkl\n",
      "readed\n",
      "experiment: 3\n",
      "./agents/f1/logs/qlearn_models/qlearn_camera_solved/points_1_actions_hard__simple_circuit/3/1_20200918_1835_qlearn_circuit_simple_act_set_hard_e_0.82_epoch_0.pkl\n",
      "./agents/f1/logs/qlearn_models/qlearn_camera_solved/points_1_actions_hard__simple_circuit/3/2_20200918_1835_qlearn_circuit_simple_act_set_hard_e_0.82_epoch_0_states_dictionary.pkl\n",
      "./agents/f1/logs/qlearn_models/qlearn_camera_solved/points_1_actions_hard__simple_circuit/3/3_20200918_1835_qlearn_circuit_simple_act_set_hard_e_0.82_epoch_0_states_dictionary_states_rewards.pkl\n",
      "readed\n",
      "experiment: 4\n",
      "./agents/f1/logs/qlearn_models/qlearn_camera_solved/points_1_actions_hard__simple_circuit/4/1_20200918_1931_qlearn_circuit_simple_act_set_hard_e_0.71_epoch_98.pkl\n",
      "./agents/f1/logs/qlearn_models/qlearn_camera_solved/points_1_actions_hard__simple_circuit/4/2_20200918_1931_qlearn_circuit_simple_act_set_hard_e_0.71_epoch_98_states_dictionary.pkl\n",
      "./agents/f1/logs/qlearn_models/qlearn_camera_solved/points_1_actions_hard__simple_circuit/4/3_20200918_1931_qlearn_circuit_simple_act_set_hard_e_0.71_epoch_98_states_dictionary_states_rewards.pkl\n",
      "readed\n",
      "experiment: 5\n",
      "./agents/f1/logs/qlearn_models/qlearn_camera_solved/points_1_actions_hard__simple_circuit/5/1_20200918_2045_qlearn_circuit_simple_act_set_hard_e_0.8_epoch_1.pkl\n",
      "./agents/f1/logs/qlearn_models/qlearn_camera_solved/points_1_actions_hard__simple_circuit/5/2_20200918_2045_qlearn_circuit_simple_act_set_hard_e_0.8_epoch_1_states_dictionary.pkl\n",
      "./agents/f1/logs/qlearn_models/qlearn_camera_solved/points_1_actions_hard__simple_circuit/5/3_20200918_2045_qlearn_circuit_simple_act_set_hard_e_0.8_epoch_1_states_dictionary_states_rewards.pkl\n",
      "readed\n",
      "\n",
      "Folder: points_1_actions_medium__simple_circuit\n",
      "experiment: 1\n",
      "./agents/f1/logs/qlearn_models/qlearn_camera_solved/points_1_actions_medium__simple_circuit/1/1_20200918_2224_qlearn_circuit_simple_act_set_medium_e_0.81_epoch_0.pkl\n",
      "./agents/f1/logs/qlearn_models/qlearn_camera_solved/points_1_actions_medium__simple_circuit/1/2_20200918_2224_qlearn_circuit_simple_act_set_medium_e_0.81_epoch_0_states_dictionary.pkl\n",
      "./agents/f1/logs/qlearn_models/qlearn_camera_solved/points_1_actions_medium__simple_circuit/1/3_20200918_2224_qlearn_circuit_simple_act_set_medium_e_0.81_epoch_0_states_dictionary_states_rewards.pkl\n",
      "readed\n",
      "experiment: 2\n",
      "./agents/f1/logs/qlearn_models/qlearn_camera_solved/points_1_actions_medium__simple_circuit/2/1_20200918_2334_qlearn_circuit_simple_act_set_medium_e_0.84_epoch_5.pkl\n",
      "./agents/f1/logs/qlearn_models/qlearn_camera_solved/points_1_actions_medium__simple_circuit/2/2_20200918_2334_qlearn_circuit_simple_act_set_medium_e_0.84_epoch_5_states_dictionary.pkl\n",
      "./agents/f1/logs/qlearn_models/qlearn_camera_solved/points_1_actions_medium__simple_circuit/2/3_20200918_2334_qlearn_circuit_simple_act_set_medium_e_0.84_epoch_5_states_dictionary_states_rewards.pkl\n",
      "readed\n",
      "experiment: 3\n",
      "./agents/f1/logs/qlearn_models/qlearn_camera_solved/points_1_actions_medium__simple_circuit/3/1_20200919_1034_qlearn_circuit_simple_act_set_medium_e_0.75_epoch_14.pkl\n",
      "./agents/f1/logs/qlearn_models/qlearn_camera_solved/points_1_actions_medium__simple_circuit/3/2_20200919_1034_qlearn_circuit_simple_act_set_medium_e_0.75_epoch_14_states_dictionary.pkl\n",
      "./agents/f1/logs/qlearn_models/qlearn_camera_solved/points_1_actions_medium__simple_circuit/3/3_20200919_1034_qlearn_circuit_simple_act_set_medium_e_0.75_epoch_14_states_dictionary_states_rewards.pkl\n",
      "readed\n",
      "experiment: 4\n",
      "./agents/f1/logs/qlearn_models/qlearn_camera_solved/points_1_actions_medium__simple_circuit/4/1_20200919_1231_qlearn_circuit_simple_act_set_medium_e_0.81_epoch_14.pkl\n",
      "./agents/f1/logs/qlearn_models/qlearn_camera_solved/points_1_actions_medium__simple_circuit/4/2_20200919_1231_qlearn_circuit_simple_act_set_medium_e_0.81_epoch_14_states_dictionary.pkl\n",
      "./agents/f1/logs/qlearn_models/qlearn_camera_solved/points_1_actions_medium__simple_circuit/4/3_20200919_1231_qlearn_circuit_simple_act_set_medium_e_0.81_epoch_14_states_dictionary_states_rewards.pkl\n",
      "readed\n",
      "experiment: 5\n",
      "./agents/f1/logs/qlearn_models/qlearn_camera_solved/points_1_actions_medium__simple_circuit/5/1_20200919_1345_qlearn_circuit_simple_act_set_medium_e_0.84_epoch_18.pkl\n",
      "./agents/f1/logs/qlearn_models/qlearn_camera_solved/points_1_actions_medium__simple_circuit/5/2_20200919_1345_qlearn_circuit_simple_act_set_medium_e_0.84_epoch_18_states_dictionary.pkl\n",
      "./agents/f1/logs/qlearn_models/qlearn_camera_solved/points_1_actions_medium__simple_circuit/5/3_20200919_1345_qlearn_circuit_simple_act_set_medium_e_0.84_epoch_18_states_dictionary_states_rewards.pkl\n",
      "readed\n",
      "\n",
      "Folder: points_1_actions_simple__simple_circuit\n",
      "experiment: 1\n",
      "./agents/f1/logs/qlearn_models/qlearn_camera_solved/points_1_actions_simple__simple_circuit/1/20200919_1431_qlearn_circuit_simple_act_set_medium_e_0.92_epoch_1.pkl\n",
      "./agents/f1/logs/qlearn_models/qlearn_camera_solved/points_1_actions_simple__simple_circuit/1/20200919_1431_qlearn_circuit_simple_act_set_medium_e_0.92_epoch_1_states_dictionary.pkl\n",
      "./agents/f1/logs/qlearn_models/qlearn_camera_solved/points_1_actions_simple__simple_circuit/1/20200919_1431_qlearn_circuit_simple_act_set_medium_e_0.92_epoch_1_states_dictionary_states_rewards.pkl\n",
      "readed\n",
      "experiment: 2\n",
      "./agents/f1/logs/qlearn_models/qlearn_camera_solved/points_1_actions_simple__simple_circuit/2/1_20200919_1547_qlearn_circuit_simple_act_set_medium_e_0.88_epoch_1.pkl\n",
      "./agents/f1/logs/qlearn_models/qlearn_camera_solved/points_1_actions_simple__simple_circuit/2/2_20200919_1547_qlearn_circuit_simple_act_set_medium_e_0.88_epoch_1_states_dictionary.pkl\n",
      "./agents/f1/logs/qlearn_models/qlearn_camera_solved/points_1_actions_simple__simple_circuit/2/3_20200919_1547_qlearn_circuit_simple_act_set_medium_e_0.88_epoch_1_states_dictionary_states_rewards.pkl\n",
      "readed\n",
      "experiment: 3\n",
      "./agents/f1/logs/qlearn_models/qlearn_camera_solved/points_1_actions_simple__simple_circuit/3/1_20200919_1706_qlearn_circuit_simple_act_set_medium_e_0.85_epoch_14.pkl\n",
      "./agents/f1/logs/qlearn_models/qlearn_camera_solved/points_1_actions_simple__simple_circuit/3/2_20200919_1706_qlearn_circuit_simple_act_set_medium_e_0.85_epoch_14_states_dictionary.pkl\n",
      "./agents/f1/logs/qlearn_models/qlearn_camera_solved/points_1_actions_simple__simple_circuit/3/3_20200919_1706_qlearn_circuit_simple_act_set_medium_e_0.85_epoch_14_states_dictionary_states_rewards.pkl\n",
      "readed\n",
      "experiment: 4\n",
      "./agents/f1/logs/qlearn_models/qlearn_camera_solved/points_1_actions_simple__simple_circuit/4/1_20200919_1805_qlearn_circuit_simple_act_set_medium_e_0.82_epoch_49.pkl\n",
      "./agents/f1/logs/qlearn_models/qlearn_camera_solved/points_1_actions_simple__simple_circuit/4/2_20200919_1805_qlearn_circuit_simple_act_set_medium_e_0.82_epoch_49_states_dictionary.pkl\n",
      "./agents/f1/logs/qlearn_models/qlearn_camera_solved/points_1_actions_simple__simple_circuit/4/3_20200919_1805_qlearn_circuit_simple_act_set_medium_e_0.82_epoch_49_states_dictionary_states_rewards.pkl\n",
      "readed\n",
      "experiment: 5\n",
      "./agents/f1/logs/qlearn_models/qlearn_camera_solved/points_1_actions_simple__simple_circuit/5/20200912_1654_qlearn_circuit_simple_act_set_simple_e_0.92_epoch_4.pkl\n",
      "./agents/f1/logs/qlearn_models/qlearn_camera_solved/points_1_actions_simple__simple_circuit/5/20200912_1654_qlearn_circuit_simple_act_set_simple_e_0.92_epoch_4_states_dictionary.pkl\n"
     ]
    },
    {
     "ename": "IndexError",
     "evalue": "list index out of range",
     "output_type": "error",
     "traceback": [
      "\u001b[0;31m---------------------------------------------------------------------------\u001b[0m",
      "\u001b[0;31mIndexError\u001b[0m                                Traceback (most recent call last)",
      "\u001b[0;32m<ipython-input-137-a9b0289205b8>\u001b[0m in \u001b[0;36m<module>\u001b[0;34m\u001b[0m\n\u001b[1;32m     28\u001b[0m                 \u001b[0mpoi_1_table\u001b[0m\u001b[0;34m.\u001b[0m\u001b[0mappend\u001b[0m\u001b[0;34m(\u001b[0m\u001b[0mread_pkl\u001b[0m\u001b[0;34m(\u001b[0m\u001b[0mexperiments_path\u001b[0m \u001b[0;34m+\u001b[0m \u001b[0;34m\"/\"\u001b[0m \u001b[0;34m+\u001b[0m \u001b[0mfiles\u001b[0m\u001b[0;34m[\u001b[0m\u001b[0;36m0\u001b[0m\u001b[0;34m]\u001b[0m\u001b[0;34m)\u001b[0m\u001b[0;34m)\u001b[0m\u001b[0;34m\u001b[0m\u001b[0;34m\u001b[0m\u001b[0m\n\u001b[1;32m     29\u001b[0m                 \u001b[0mpoi_1_states_dict\u001b[0m\u001b[0;34m.\u001b[0m\u001b[0mappend\u001b[0m\u001b[0;34m(\u001b[0m\u001b[0mread_pkl\u001b[0m\u001b[0;34m(\u001b[0m\u001b[0mexperiments_path\u001b[0m \u001b[0;34m+\u001b[0m \u001b[0;34m\"/\"\u001b[0m \u001b[0;34m+\u001b[0m \u001b[0mfiles\u001b[0m\u001b[0;34m[\u001b[0m\u001b[0;36m1\u001b[0m\u001b[0;34m]\u001b[0m\u001b[0;34m)\u001b[0m\u001b[0;34m)\u001b[0m\u001b[0;34m\u001b[0m\u001b[0;34m\u001b[0m\u001b[0m\n\u001b[0;32m---> 30\u001b[0;31m                 \u001b[0mpoi_1_states_reward\u001b[0m\u001b[0;34m.\u001b[0m\u001b[0mappend\u001b[0m\u001b[0;34m(\u001b[0m\u001b[0mread_pkl\u001b[0m\u001b[0;34m(\u001b[0m\u001b[0mexperiments_path\u001b[0m \u001b[0;34m+\u001b[0m \u001b[0;34m\"/\"\u001b[0m \u001b[0;34m+\u001b[0m \u001b[0mfiles\u001b[0m\u001b[0;34m[\u001b[0m\u001b[0;36m2\u001b[0m\u001b[0;34m]\u001b[0m\u001b[0;34m)\u001b[0m\u001b[0;34m)\u001b[0m\u001b[0;34m\u001b[0m\u001b[0;34m\u001b[0m\u001b[0m\n\u001b[0m\u001b[1;32m     31\u001b[0m             \u001b[0;32melif\u001b[0m \u001b[0mint\u001b[0m\u001b[0;34m(\u001b[0m\u001b[0mcurrent_poi\u001b[0m\u001b[0;34m)\u001b[0m \u001b[0;34m==\u001b[0m \u001b[0;36m3\u001b[0m\u001b[0;34m:\u001b[0m\u001b[0;34m\u001b[0m\u001b[0;34m\u001b[0m\u001b[0m\n\u001b[1;32m     32\u001b[0m                 \u001b[0mpoi_3_table\u001b[0m\u001b[0;34m.\u001b[0m\u001b[0mappend\u001b[0m\u001b[0;34m(\u001b[0m\u001b[0mread_pkl\u001b[0m\u001b[0;34m(\u001b[0m\u001b[0mexperiments_path\u001b[0m \u001b[0;34m+\u001b[0m \u001b[0;34m\"/\"\u001b[0m \u001b[0;34m+\u001b[0m \u001b[0mfiles\u001b[0m\u001b[0;34m[\u001b[0m\u001b[0;36m0\u001b[0m\u001b[0;34m]\u001b[0m\u001b[0;34m)\u001b[0m\u001b[0;34m)\u001b[0m\u001b[0;34m\u001b[0m\u001b[0;34m\u001b[0m\u001b[0m\n",
      "\u001b[0;31mIndexError\u001b[0m: list index out of range"
     ]
    }
   ],
   "source": [
    "def read_pkl(file):\n",
    "    print(file)\n",
    "    qlearn_file = open(file, 'rb')\n",
    "    model = pickle.load(qlearn_file)\n",
    "    \n",
    "    return model\n",
    "\n",
    "poi_1_table = []\n",
    "poi_1_states_dict = []\n",
    "poi_1_states_reward = []\n",
    "poi_3_table = []\n",
    "poi_3_states_dict = []\n",
    "poi_3_states_reward = []\n",
    "\n",
    "BUCLE = True\n",
    "\n",
    "for folder in sorted(os.listdir(data_path)):\n",
    "    # print(folder.endswith(\".png\"))\n",
    "    current_poi = folder.split(\"_\")[1]\n",
    "    if current_poi in available_folders and not folder.endswith(\".png\"):\n",
    "        if BUCLE: print(f\"\\nFolder: {folder}\")\n",
    "        for experiment in range(1, 6):# sorted(os.listdir(os.path.join(data_path, folder))):\n",
    "            if BUCLE: print(f\"experiment: {experiment}\")\n",
    "            experiments_path = os.path.join(data_path, folder, str(experiment))\n",
    "            files = sorted(os.listdir(experiments_path))\n",
    "\n",
    "            if int(current_poi) == 1:\n",
    "                poi_1_table.append(read_pkl(experiments_path + \"/\" + files[0]))\n",
    "                poi_1_states_dict.append(read_pkl(experiments_path + \"/\" + files[1]))\n",
    "                poi_1_states_reward.append(read_pkl(experiments_path + \"/\" + files[2]))\n",
    "            elif int(current_poi) == 3:\n",
    "                poi_3_table.append(read_pkl(experiments_path + \"/\" + files[0]))\n",
    "                poi_3_states_dict.append(read_pkl(experiments_path + \"/\" + files[1]))\n",
    "                poi_3_states_reward.append(read_pkl(experiments_path + \"/\" + files[2]))\n",
    "            if BUCLE: print(\"readed\")\n",
    "\n",
    "print(f\" Point of interes 1: {len(poi_1)}\")\n",
    "print(f\" Point of interes 3: {len(poi_3)}\")"
   ]
  },
  {
   "cell_type": "code",
   "execution_count": 102,
   "metadata": {},
   "outputs": [],
   "source": []
  },
  {
   "cell_type": "code",
   "execution_count": 103,
   "metadata": {},
   "outputs": [
    {
     "name": "stdout",
     "output_type": "stream",
     "text": [
      "2\n"
     ]
    }
   ],
   "source": []
  },
  {
   "cell_type": "code",
   "execution_count": null,
   "metadata": {},
   "outputs": [],
   "source": []
  },
  {
   "cell_type": "markdown",
   "metadata": {},
   "source": [
    "# Cargando un par de experimentos"
   ]
  },
  {
   "cell_type": "code",
   "execution_count": 181,
   "metadata": {},
   "outputs": [],
   "source": [
    "path_1 = \"./agents/f1/logs/qlearn_models/qlearn_camera_solved/2_point_1_actions_medium__simple_circuit/4/\"\n",
    "\n",
    "poi_1_table = []\n",
    "poi_1_stats = []\n",
    "poi_1_states_counter = []\n",
    "poi_1_states_reward = []"
   ]
  },
  {
   "cell_type": "code",
   "execution_count": 182,
   "metadata": {},
   "outputs": [
    {
     "name": "stdout",
     "output_type": "stream",
     "text": [
      "./agents/f1/logs/qlearn_models/qlearn_camera_solved/2_point_1_actions_medium__simple_circuit/4/1_20200920_1817_act_set_medium_epsilon_0.85_QTABLE.pkl\n",
      "./agents/f1/logs/qlearn_models/qlearn_camera_solved/2_point_1_actions_medium__simple_circuit/4/2_20200920_1817_act_set_medium_epsilon_0.85_STATES_COUNTER.pkl\n",
      "./agents/f1/logs/qlearn_models/qlearn_camera_solved/2_point_1_actions_medium__simple_circuit/4/3_20200920_1817_act_set_medium_epsilon_0.85_STATES_CUM_REWARD.pkl\n",
      "./agents/f1/logs/qlearn_models/qlearn_camera_solved/2_point_1_actions_medium__simple_circuit/4/4_20200920_1817_act_set_medium_epsilon_0.85_STATES_STEPS.pkl\n"
     ]
    }
   ],
   "source": [
    "poi_1_table.append(read_pkl(os.path.join(path_1, sorted(os.listdir(os.path.join(path_1)))[0])))\n",
    "poi_1_states_counter.append(read_pkl(os.path.join(path_1, sorted(os.listdir(os.path.join(path_1)))[1])))\n",
    "poi_1_states_reward.append(read_pkl(os.path.join(path_1, sorted(os.listdir(os.path.join(path_1)))[2])))\n",
    "poi_1_stats.append(read_pkl(os.path.join(path_1, sorted(os.listdir(os.path.join(path_1)))[3])))\n",
    "\n",
    "# poi_1_table.append(read_pkl(os.path.join(path_2, sorted(os.listdir(os.path.join(path_2)))[0])))\n",
    "# poi_1_states_counter.append(read_pkl(os.path.join(path_2, sorted(os.listdir(os.path.join(path_2)))[0])))\n",
    "# poi_1_states_reward.append(read_pkl(os.path.join(path_2, sorted(os.listdir(os.path.join(path_2)))[0])))"
   ]
  },
  {
   "cell_type": "code",
   "execution_count": 183,
   "metadata": {},
   "outputs": [
    {
     "name": "stdout",
     "output_type": "stream",
     "text": [
      "{('1', 1): 78.52729039031729, ('-3', 2): 23.4502948243355, ('-7', 3): -79.08, ('-6', 1): -76.70902397971668, ('-5', 4): 16.14325352355572, ('-1', 2): 48.98091101484161, ('-6', 4): 16.26180277416436, ('4', 3): 43.39710307047275, ('-4', 2): 19.457592357824833, ('-6', 2): 15.834296719384849, ('0', 3): 73.35928752336405, ('-6', 3): -79.80000000000001, ('-2', 1): 44.40168507884082, ('-6', 0): -79.08, ('2', 1): 80.52347154078157, ('3', 1): 78.53328641653282}\n",
      "\n",
      "{'-5': 695, '-6': 30, '0': 12961, '-7': 6, '1': 4497, '-4': 8640, '3': 48, '2': 704, '-1': 23555, '4': 3, '-3': 24264, '-2': 32925}\n",
      "\n",
      "{0: 103636, 1: 76911, 2: 130728, 3: 1270}\n",
      "\n",
      "{0: 24890, 1: 21676, 2: 31367, 3: 492}\n",
      "\n"
     ]
    }
   ],
   "source": [
    "print(f\"{poi_1_table[0]}\\n\")\n",
    "print(f\"{poi_1_states_counter[0]}\\n\")\n",
    "print(f\"{poi_1_states_reward[0]}\\n\")\n",
    "print(f\"{poi_1_stats[0]}\\n\")"
   ]
  },
  {
   "cell_type": "code",
   "execution_count": 211,
   "metadata": {},
   "outputs": [
    {
     "data": {
      "text/plain": [
       "array([-9, -8, -7, -6, -5, -4, -3, -2, -1,  0,  1,  2,  3,  4,  5,  6,  7,\n",
       "        9])"
      ]
     },
     "execution_count": 211,
     "metadata": {},
     "output_type": "execute_result"
    }
   ],
   "source": [
    "\n"
   ]
  },
  {
   "cell_type": "code",
   "execution_count": 214,
   "metadata": {},
   "outputs": [
    {
     "data": {
      "text/plain": [
       "[Text(0, 0.5, 'steps'), Text(0.5, 0, 'episode')]"
      ]
     },
     "execution_count": 214,
     "metadata": {},
     "output_type": "execute_result"
    },
    {
     "data": {
      "image/png": "[encoded data removed]",
      "text/plain": [
       "<Figure size 2160x720 with 3 Axes>"
      ]
     },
     "metadata": {
      "needs_background": "light"
     },
     "output_type": "display_data"
    }
   ],
   "source": [
    "fig, axs = plt.subplots(1, 3, figsize=(30,10))\n",
    "\n",
    "# x_axis = np.linspace(0, 18, num=18, dtype=int) - 9\n",
    "axs[0].plot(list(sorted(poi_1_states_counter[0].keys())), list(poi_1_states_counter[0].values()))\n",
    "axs[0].set_title('Contador de estados')\n",
    "axs[1].plot(list(poi_1_states_reward[0].keys()), list(poi_1_states_reward[0].values()), 'tab:orange')\n",
    "axs[1].set_title('Recompensa acumulada')\n",
    "axs[2].plot(list(poi_1_stats[0].keys()), list(poi_1_stats[0].values()), 'tab:green')\n",
    "axs[2].set_title('episodios/pasos')\n",
    "\n",
    "# for ax in axs.flat:\n",
    "axs[0].set(xlabel='States', ylabel='Counter')\n",
    "axs[1].set(xlabel='episode', ylabel='Reward')\n",
    "axs[2].set(xlabel='episode', ylabel='steps')\n",
    "\n",
    "# Hide x labels and tick labels for top plots and y ticks for right plots.\n",
    "# for ax in axs.flat:\n",
    "#     ax.label_outer()"
   ]
  },
  {
   "cell_type": "code",
   "execution_count": 167,
   "metadata": {},
   "outputs": [
    {
     "data": {
      "image/png": "[encoded data removed]",
      "text/plain": [
       "<Figure size 432x288 with 1 Axes>"
      ]
     },
     "metadata": {},
     "output_type": "display_data"
    }
   ],
   "source": [
    "fig = plt.figure(facecolor='w', edgecolor='k')\n",
    "\n",
    "plt.bar(range(len(poi_1_states_reward[0])), list(poi_1_states_reward[0].values()), align='center')\n",
    "plt.xticks(range(len(poi_1_states_reward[0])), list(poi_1_states_reward[0].keys()))\n",
    "plt.show()"
   ]
  },
  {
   "cell_type": "code",
   "execution_count": 159,
   "metadata": {},
   "outputs": [
    {
     "ename": "TypeError",
     "evalue": "Image data of dtype object cannot be converted to float",
     "output_type": "error",
     "traceback": [
      "\u001b[0;31m---------------------------------------------------------------------------\u001b[0m",
      "\u001b[0;31mTypeError\u001b[0m                                 Traceback (most recent call last)",
      "\u001b[0;32m<ipython-input-159-94cc1c6703f4>\u001b[0m in \u001b[0;36m<module>\u001b[0;34m\u001b[0m\n\u001b[1;32m      2\u001b[0m plt.imshow(poi_1_table,\n\u001b[1;32m      3\u001b[0m            \u001b[0morigin\u001b[0m\u001b[0;34m=\u001b[0m\u001b[0;34m'lower'\u001b[0m\u001b[0;34m,\u001b[0m \u001b[0maspect\u001b[0m\u001b[0;34m=\u001b[0m\u001b[0;34m'auto'\u001b[0m\u001b[0;34m,\u001b[0m\u001b[0;34m\u001b[0m\u001b[0;34m\u001b[0m\u001b[0m\n\u001b[0;32m----> 4\u001b[0;31m            extent=[0, 3, 0, 1])\n\u001b[0m\u001b[1;32m      5\u001b[0m \u001b[0mplt\u001b[0m\u001b[0;34m.\u001b[0m\u001b[0mcolorbar\u001b[0m\u001b[0;34m(\u001b[0m\u001b[0;34m)\u001b[0m\u001b[0;34m;\u001b[0m\u001b[0;34m\u001b[0m\u001b[0;34m\u001b[0m\u001b[0m\n",
      "\u001b[0;32m~/.local/lib/python3.6/site-packages/matplotlib/pyplot.py\u001b[0m in \u001b[0;36mimshow\u001b[0;34m(X, cmap, norm, aspect, interpolation, alpha, vmin, vmax, origin, extent, shape, filternorm, filterrad, imlim, resample, url, data, **kwargs)\u001b[0m\n\u001b[1;32m   2649\u001b[0m         \u001b[0mfilternorm\u001b[0m\u001b[0;34m=\u001b[0m\u001b[0mfilternorm\u001b[0m\u001b[0;34m,\u001b[0m \u001b[0mfilterrad\u001b[0m\u001b[0;34m=\u001b[0m\u001b[0mfilterrad\u001b[0m\u001b[0;34m,\u001b[0m \u001b[0mimlim\u001b[0m\u001b[0;34m=\u001b[0m\u001b[0mimlim\u001b[0m\u001b[0;34m,\u001b[0m\u001b[0;34m\u001b[0m\u001b[0;34m\u001b[0m\u001b[0m\n\u001b[1;32m   2650\u001b[0m         resample=resample, url=url, **({\"data\": data} if data is not\n\u001b[0;32m-> 2651\u001b[0;31m         None else {}), **kwargs)\n\u001b[0m\u001b[1;32m   2652\u001b[0m     \u001b[0msci\u001b[0m\u001b[0;34m(\u001b[0m\u001b[0m__ret\u001b[0m\u001b[0;34m)\u001b[0m\u001b[0;34m\u001b[0m\u001b[0;34m\u001b[0m\u001b[0m\n\u001b[1;32m   2653\u001b[0m     \u001b[0;32mreturn\u001b[0m \u001b[0m__ret\u001b[0m\u001b[0;34m\u001b[0m\u001b[0;34m\u001b[0m\u001b[0m\n",
      "\u001b[0;32m~/.local/lib/python3.6/site-packages/matplotlib/__init__.py\u001b[0m in \u001b[0;36minner\u001b[0;34m(ax, data, *args, **kwargs)\u001b[0m\n\u001b[1;32m   1563\u001b[0m     \u001b[0;32mdef\u001b[0m \u001b[0minner\u001b[0m\u001b[0;34m(\u001b[0m\u001b[0max\u001b[0m\u001b[0;34m,\u001b[0m \u001b[0;34m*\u001b[0m\u001b[0margs\u001b[0m\u001b[0;34m,\u001b[0m \u001b[0mdata\u001b[0m\u001b[0;34m=\u001b[0m\u001b[0;32mNone\u001b[0m\u001b[0;34m,\u001b[0m \u001b[0;34m**\u001b[0m\u001b[0mkwargs\u001b[0m\u001b[0;34m)\u001b[0m\u001b[0;34m:\u001b[0m\u001b[0;34m\u001b[0m\u001b[0;34m\u001b[0m\u001b[0m\n\u001b[1;32m   1564\u001b[0m         \u001b[0;32mif\u001b[0m \u001b[0mdata\u001b[0m \u001b[0;32mis\u001b[0m \u001b[0;32mNone\u001b[0m\u001b[0;34m:\u001b[0m\u001b[0;34m\u001b[0m\u001b[0;34m\u001b[0m\u001b[0m\n\u001b[0;32m-> 1565\u001b[0;31m             \u001b[0;32mreturn\u001b[0m \u001b[0mfunc\u001b[0m\u001b[0;34m(\u001b[0m\u001b[0max\u001b[0m\u001b[0;34m,\u001b[0m \u001b[0;34m*\u001b[0m\u001b[0mmap\u001b[0m\u001b[0;34m(\u001b[0m\u001b[0msanitize_sequence\u001b[0m\u001b[0;34m,\u001b[0m \u001b[0margs\u001b[0m\u001b[0;34m)\u001b[0m\u001b[0;34m,\u001b[0m \u001b[0;34m**\u001b[0m\u001b[0mkwargs\u001b[0m\u001b[0;34m)\u001b[0m\u001b[0;34m\u001b[0m\u001b[0;34m\u001b[0m\u001b[0m\n\u001b[0m\u001b[1;32m   1566\u001b[0m \u001b[0;34m\u001b[0m\u001b[0m\n\u001b[1;32m   1567\u001b[0m         \u001b[0mbound\u001b[0m \u001b[0;34m=\u001b[0m \u001b[0mnew_sig\u001b[0m\u001b[0;34m.\u001b[0m\u001b[0mbind\u001b[0m\u001b[0;34m(\u001b[0m\u001b[0max\u001b[0m\u001b[0;34m,\u001b[0m \u001b[0;34m*\u001b[0m\u001b[0margs\u001b[0m\u001b[0;34m,\u001b[0m \u001b[0;34m**\u001b[0m\u001b[0mkwargs\u001b[0m\u001b[0;34m)\u001b[0m\u001b[0;34m\u001b[0m\u001b[0;34m\u001b[0m\u001b[0m\n",
      "\u001b[0;32m~/.local/lib/python3.6/site-packages/matplotlib/cbook/deprecation.py\u001b[0m in \u001b[0;36mwrapper\u001b[0;34m(*args, **kwargs)\u001b[0m\n\u001b[1;32m    356\u001b[0m                 \u001b[0;34mf\"%(removal)s.  If any parameter follows {name!r}, they \"\u001b[0m\u001b[0;34m\u001b[0m\u001b[0;34m\u001b[0m\u001b[0m\n\u001b[1;32m    357\u001b[0m                 f\"should be pass as keyword, not positionally.\")\n\u001b[0;32m--> 358\u001b[0;31m         \u001b[0;32mreturn\u001b[0m \u001b[0mfunc\u001b[0m\u001b[0;34m(\u001b[0m\u001b[0;34m*\u001b[0m\u001b[0margs\u001b[0m\u001b[0;34m,\u001b[0m \u001b[0;34m**\u001b[0m\u001b[0mkwargs\u001b[0m\u001b[0;34m)\u001b[0m\u001b[0;34m\u001b[0m\u001b[0;34m\u001b[0m\u001b[0m\n\u001b[0m\u001b[1;32m    359\u001b[0m \u001b[0;34m\u001b[0m\u001b[0m\n\u001b[1;32m    360\u001b[0m     \u001b[0;32mreturn\u001b[0m \u001b[0mwrapper\u001b[0m\u001b[0;34m\u001b[0m\u001b[0;34m\u001b[0m\u001b[0m\n",
      "\u001b[0;32m~/.local/lib/python3.6/site-packages/matplotlib/cbook/deprecation.py\u001b[0m in \u001b[0;36mwrapper\u001b[0;34m(*args, **kwargs)\u001b[0m\n\u001b[1;32m    356\u001b[0m                 \u001b[0;34mf\"%(removal)s.  If any parameter follows {name!r}, they \"\u001b[0m\u001b[0;34m\u001b[0m\u001b[0;34m\u001b[0m\u001b[0m\n\u001b[1;32m    357\u001b[0m                 f\"should be pass as keyword, not positionally.\")\n\u001b[0;32m--> 358\u001b[0;31m         \u001b[0;32mreturn\u001b[0m \u001b[0mfunc\u001b[0m\u001b[0;34m(\u001b[0m\u001b[0;34m*\u001b[0m\u001b[0margs\u001b[0m\u001b[0;34m,\u001b[0m \u001b[0;34m**\u001b[0m\u001b[0mkwargs\u001b[0m\u001b[0;34m)\u001b[0m\u001b[0;34m\u001b[0m\u001b[0;34m\u001b[0m\u001b[0m\n\u001b[0m\u001b[1;32m    359\u001b[0m \u001b[0;34m\u001b[0m\u001b[0m\n\u001b[1;32m    360\u001b[0m     \u001b[0;32mreturn\u001b[0m \u001b[0mwrapper\u001b[0m\u001b[0;34m\u001b[0m\u001b[0;34m\u001b[0m\u001b[0m\n",
      "\u001b[0;32m~/.local/lib/python3.6/site-packages/matplotlib/axes/_axes.py\u001b[0m in \u001b[0;36mimshow\u001b[0;34m(self, X, cmap, norm, aspect, interpolation, alpha, vmin, vmax, origin, extent, shape, filternorm, filterrad, imlim, resample, url, **kwargs)\u001b[0m\n\u001b[1;32m   5613\u001b[0m                               resample=resample, **kwargs)\n\u001b[1;32m   5614\u001b[0m \u001b[0;34m\u001b[0m\u001b[0m\n\u001b[0;32m-> 5615\u001b[0;31m         \u001b[0mim\u001b[0m\u001b[0;34m.\u001b[0m\u001b[0mset_data\u001b[0m\u001b[0;34m(\u001b[0m\u001b[0mX\u001b[0m\u001b[0;34m)\u001b[0m\u001b[0;34m\u001b[0m\u001b[0;34m\u001b[0m\u001b[0m\n\u001b[0m\u001b[1;32m   5616\u001b[0m         \u001b[0mim\u001b[0m\u001b[0;34m.\u001b[0m\u001b[0mset_alpha\u001b[0m\u001b[0;34m(\u001b[0m\u001b[0malpha\u001b[0m\u001b[0;34m)\u001b[0m\u001b[0;34m\u001b[0m\u001b[0;34m\u001b[0m\u001b[0m\n\u001b[1;32m   5617\u001b[0m         \u001b[0;32mif\u001b[0m \u001b[0mim\u001b[0m\u001b[0;34m.\u001b[0m\u001b[0mget_clip_path\u001b[0m\u001b[0;34m(\u001b[0m\u001b[0;34m)\u001b[0m \u001b[0;32mis\u001b[0m \u001b[0;32mNone\u001b[0m\u001b[0;34m:\u001b[0m\u001b[0;34m\u001b[0m\u001b[0;34m\u001b[0m\u001b[0m\n",
      "\u001b[0;32m~/.local/lib/python3.6/site-packages/matplotlib/image.py\u001b[0m in \u001b[0;36mset_data\u001b[0;34m(self, A)\u001b[0m\n\u001b[1;32m    692\u001b[0m                 not np.can_cast(self._A.dtype, float, \"same_kind\")):\n\u001b[1;32m    693\u001b[0m             raise TypeError(\"Image data of dtype {} cannot be converted to \"\n\u001b[0;32m--> 694\u001b[0;31m                             \"float\".format(self._A.dtype))\n\u001b[0m\u001b[1;32m    695\u001b[0m \u001b[0;34m\u001b[0m\u001b[0m\n\u001b[1;32m    696\u001b[0m         if not (self._A.ndim == 2\n",
      "\u001b[0;31mTypeError\u001b[0m: Image data of dtype object cannot be converted to float"
     ]
    },
    {
     "data": {
      "image/png": "[encoded data removed]",
      "text/plain": [
       "<Figure size 432x432 with 1 Axes>"
      ]
     },
     "metadata": {
      "needs_background": "light"
     },
     "output_type": "display_data"
    }
   ],
   "source": [
    "fig, ax = plt.subplots(figsize=(6,6))\n",
    "plt.imshow(poi_1_table,\n",
    "           origin='lower', aspect='auto',\n",
    "           extent=[0, 3, 0, 1])\n",
    "plt.colorbar();"
   ]
  },
  {
   "cell_type": "code",
   "execution_count": null,
   "metadata": {},
   "outputs": [],
   "source": []
  },
  {
   "cell_type": "code",
   "execution_count": null,
   "metadata": {},
   "outputs": [],
   "source": []
  },
  {
   "cell_type": "code",
   "execution_count": null,
   "metadata": {},
   "outputs": [],
   "source": []
  },
  {
   "cell_type": "code",
   "execution_count": null,
   "metadata": {},
   "outputs": [],
   "source": []
  },
  {
   "cell_type": "code",
   "execution_count": null,
   "metadata": {},
   "outputs": [],
   "source": []
  },
  {
   "cell_type": "markdown",
   "metadata": {},
   "source": [
    "# ----"
   ]
  },
  {
   "cell_type": "code",
   "execution_count": null,
   "metadata": {},
   "outputs": [],
   "source": [
    "\n",
    "file_name_no_abs = \"abs_20200905_1608_qlearn_circuit_simple_act_set_medium_e_0.14_epoch_500_states_dictionary.pkl\"\n",
    "file_name_with_abs = \"20200904_2329_qlearn_circuit_simple_act_set_medium_e_0.05_epoch_2250_states_dictionary.pkl\"\n",
    "qlearn_file = open(\"/home/nachoaz/igarag/TFM/2019-tfm-ignacio-arranz/gym-gazebo/agents/f1/logs/qlearn_models/\" + file_name_with_abs, 'rb')\n",
    "model = pickle.load(qlearn_file)\n",
    "\n",
    "pp = pprint.PrettyPrinter(indent=4)\n",
    "pp.pprint(model)"
   ]
  },
  {
   "cell_type": "code",
   "execution_count": 40,
   "metadata": {},
   "outputs": [
    {
     "name": "stdout",
     "output_type": "stream",
     "text": [
      "223\n"
     ]
    },
    {
     "ename": "KeyError",
     "evalue": "'0-2-6'",
     "output_type": "error",
     "traceback": [
      "\u001b[0;31m---------------------------------------------------------------------------\u001b[0m",
      "\u001b[0;31mKeyError\u001b[0m                                  Traceback (most recent call last)",
      "\u001b[0;32m<ipython-input-40-6810ca855996>\u001b[0m in \u001b[0;36m<module>\u001b[0;34m\u001b[0m\n\u001b[1;32m      1\u001b[0m \u001b[0mmax_key\u001b[0m \u001b[0;34m=\u001b[0m \u001b[0mmax\u001b[0m\u001b[0;34m(\u001b[0m\u001b[0mmodel\u001b[0m\u001b[0;34m,\u001b[0m \u001b[0mkey\u001b[0m\u001b[0;34m=\u001b[0m\u001b[0mmodel\u001b[0m\u001b[0;34m.\u001b[0m\u001b[0mget\u001b[0m\u001b[0;34m)\u001b[0m\u001b[0;34m\u001b[0m\u001b[0;34m\u001b[0m\u001b[0m\n\u001b[1;32m      2\u001b[0m \u001b[0mprint\u001b[0m\u001b[0;34m(\u001b[0m\u001b[0mmax_key\u001b[0m\u001b[0;34m)\u001b[0m\u001b[0;34m\u001b[0m\u001b[0;34m\u001b[0m\u001b[0m\n\u001b[0;32m----> 3\u001b[0;31m \u001b[0mprint\u001b[0m\u001b[0;34m(\u001b[0m\u001b[0;34mf\"state: {max_key} - times: {model['0-2-6']}\"\u001b[0m\u001b[0;34m)\u001b[0m\u001b[0;34m\u001b[0m\u001b[0;34m\u001b[0m\u001b[0m\n\u001b[0m",
      "\u001b[0;31mKeyError\u001b[0m: '0-2-6'"
     ]
    }
   ],
   "source": [
    "max_key = max(model, key=model.get)\n",
    "print(max_key)\n",
    "print(f\"state: {max_key} - times: {model['0-2-6']}\")"
   ]
  },
  {
   "cell_type": "code",
   "execution_count": null,
   "metadata": {},
   "outputs": [],
   "source": [
    "model['-1-3-6']"
   ]
  },
  {
   "cell_type": "code",
   "execution_count": 33,
   "metadata": {
    "collapsed": true,
    "jupyter": {
     "outputs_hidden": true
    }
   },
   "outputs": [
    {
     "data": {
      "text/plain": [
       "['0-2-6',\n",
       " '-1-3-6',\n",
       " '-1-2-4',\n",
       " '-1-2-5',\n",
       " '0-2-5',\n",
       " '0-1-3',\n",
       " '0-1-4',\n",
       " '247',\n",
       " '223',\n",
       " '-2-3-6',\n",
       " '335',\n",
       " '111',\n",
       " '148',\n",
       " '-1-3-7',\n",
       " '158',\n",
       " '10-2',\n",
       " '10-1',\n",
       " '236',\n",
       " '110',\n",
       " '-2-4-7',\n",
       " '235',\n",
       " '268',\n",
       " '258',\n",
       " '00-1',\n",
       " '0-1-2',\n",
       " '-1-4-7',\n",
       " '124',\n",
       " '-1-1-2',\n",
       " '-1-1-3',\n",
       " '347',\n",
       " '137',\n",
       " '-1-2-6',\n",
       " '358',\n",
       " '334',\n",
       " '-2-3-5',\n",
       " '012',\n",
       " '222',\n",
       " '212',\n",
       " '0-3-6',\n",
       " '0-1-5',\n",
       " '211',\n",
       " '000',\n",
       " '1-1-4',\n",
       " '234',\n",
       " '357',\n",
       " '048',\n",
       " '324',\n",
       " '125',\n",
       " '-2-4-6',\n",
       " '-2-2-4',\n",
       " '323',\n",
       " '224',\n",
       " '123',\n",
       " '346',\n",
       " '136',\n",
       " '336',\n",
       " '-1-1-1',\n",
       " '00-2',\n",
       " '-1-2-3',\n",
       " '-100',\n",
       " '013',\n",
       " '135',\n",
       " '246',\n",
       " '446',\n",
       " '112',\n",
       " '001',\n",
       " '058',\n",
       " '10-3',\n",
       " '1-1-3',\n",
       " '168',\n",
       " '447',\n",
       " '368',\n",
       " '210',\n",
       " '037',\n",
       " '-1-3-5',\n",
       " '122',\n",
       " '-1-48',\n",
       " '024',\n",
       " '0-2-4',\n",
       " '-2-2-5',\n",
       " '100',\n",
       " '147',\n",
       " '-10-1',\n",
       " '11-1',\n",
       " '278',\n",
       " '011',\n",
       " '-2-58',\n",
       " '1-1-5',\n",
       " '068',\n",
       " '0-3-7',\n",
       " '-3-4-6',\n",
       " '-2-2-3',\n",
       " '-3-5-7',\n",
       " '-101',\n",
       " '21-1',\n",
       " '025',\n",
       " '322',\n",
       " '113',\n",
       " '-137',\n",
       " '-1-1-4',\n",
       " '20-2',\n",
       " '468',\n",
       " '-3-3-6',\n",
       " '-3-58',\n",
       " '-3-4-7',\n",
       " '1-2-6',\n",
       " '-138',\n",
       " '038',\n",
       " '248',\n",
       " '435',\n",
       " '-2-48',\n",
       " '310',\n",
       " '1-2-5',\n",
       " '-127',\n",
       " '-148',\n",
       " '457',\n",
       " '20-3',\n",
       " '434',\n",
       " '-3-3-5',\n",
       " '-2-1-2',\n",
       " '-1-58',\n",
       " '023',\n",
       " '-126',\n",
       " '557',\n",
       " '2-1-4',\n",
       " '026',\n",
       " '221',\n",
       " '20-1',\n",
       " '237',\n",
       " '-114',\n",
       " '036',\n",
       " '010',\n",
       " '-2-3-4',\n",
       " '-202',\n",
       " '-2-5-7',\n",
       " '-115',\n",
       " '-2-1-1',\n",
       " '-227',\n",
       " '458',\n",
       " '2-1-5',\n",
       " '-112',\n",
       " '-1-10',\n",
       " '321',\n",
       " '445',\n",
       " '014',\n",
       " '433',\n",
       " '233',\n",
       " '31-1',\n",
       " '-113',\n",
       " '422',\n",
       " '0-1-1',\n",
       " '-2-1-3',\n",
       " '-1-2-2',\n",
       " '-2-3-7',\n",
       " '200',\n",
       " '0-4-7',\n",
       " '178',\n",
       " '027',\n",
       " '-4-4-6',\n",
       " '345',\n",
       " '478',\n",
       " '225',\n",
       " '-2-10',\n",
       " '-111',\n",
       " '1-1-2',\n",
       " '378',\n",
       " '545',\n",
       " '126',\n",
       " '568',\n",
       " '-203',\n",
       " '138',\n",
       " '668',\n",
       " '-125',\n",
       " '-214',\n",
       " '546',\n",
       " '-4-5-7',\n",
       " '-3-3-4',\n",
       " '-102',\n",
       " '2-1-3',\n",
       " '-3-68',\n",
       " '-4-11',\n",
       " '1-3-7',\n",
       " '30-3',\n",
       " '-2-68',\n",
       " '-4-68',\n",
       " '421',\n",
       " '-10-2',\n",
       " '-3-10',\n",
       " '-5-3-2',\n",
       " '-303',\n",
       " '-3-11',\n",
       " '002',\n",
       " '-2-2-2',\n",
       " '31-2',\n",
       " '1-2-4',\n",
       " '134',\n",
       " '257',\n",
       " '-103',\n",
       " '556',\n",
       " '-201',\n",
       " '-226',\n",
       " '-304',\n",
       " '436',\n",
       " '432',\n",
       " '488',\n",
       " '333',\n",
       " '-213',\n",
       " '-3-2-2',\n",
       " '311',\n",
       " '-216',\n",
       " '-215',\n",
       " '678',\n",
       " '-4-12',\n",
       " '-200',\n",
       " '-4-2-1',\n",
       " '30-2',\n",
       " '00-3',\n",
       " '-4-5-6',\n",
       " '-1-4-6',\n",
       " '-158',\n",
       " '-3-3-3',\n",
       " '-3-2-3',\n",
       " '888',\n",
       " '1-3-6',\n",
       " '667',\n",
       " '-4-20',\n",
       " '-6-4-5',\n",
       " '-4-4-5',\n",
       " '-5-78',\n",
       " '149',\n",
       " '-3-4-5',\n",
       " '-3-2-4',\n",
       " '-2-11',\n",
       " '-3-12',\n",
       " '544',\n",
       " '0-48',\n",
       " '-4-3-3',\n",
       " '035',\n",
       " '213',\n",
       " '8-78',\n",
       " '-5-6-7',\n",
       " '578',\n",
       " '-238',\n",
       " '-4-78',\n",
       " '420',\n",
       " '-6-6-7',\n",
       " '121',\n",
       " '-7-6-6',\n",
       " '-7-78',\n",
       " '-3-2-1',\n",
       " '20-4',\n",
       " '-4-3-4',\n",
       " '657',\n",
       " '101',\n",
       " '688',\n",
       " '-6-5-5',\n",
       " '-7-6-7',\n",
       " '-5-68',\n",
       " '-4-58',\n",
       " '259',\n",
       " '-5-3-3',\n",
       " '220',\n",
       " '444',\n",
       " '2-2-6',\n",
       " '-4-3-5',\n",
       " '-2-2-1',\n",
       " '-5-4-5',\n",
       " '288',\n",
       " '-5-5-6',\n",
       " '788',\n",
       " '-7-5-5',\n",
       " '159',\n",
       " '-1-5-7',\n",
       " '21-2',\n",
       " '533',\n",
       " '558',\n",
       " '778',\n",
       " '-6-78',\n",
       " '-5-3-1',\n",
       " '-1-68',\n",
       " '320',\n",
       " '-3-1-1',\n",
       " '332',\n",
       " '10-4',\n",
       " '41-1',\n",
       " '-6-5-6',\n",
       " '-2-2-6',\n",
       " '-3-20',\n",
       " '-6-4-4',\n",
       " '-302',\n",
       " '-2-78',\n",
       " '588',\n",
       " '-204',\n",
       " '047',\n",
       " '-317',\n",
       " '-116',\n",
       " '-5-5-7',\n",
       " '049',\n",
       " '015',\n",
       " '-405',\n",
       " '-315',\n",
       " '022',\n",
       " '388',\n",
       " '-5-4-6',\n",
       " '30-4',\n",
       " '0-2-3',\n",
       " '348',\n",
       " '656',\n",
       " '-4-2-2',\n",
       " '0-3-5',\n",
       " '-1-3-4',\n",
       " '-4-4-7',\n",
       " '567',\n",
       " '-316',\n",
       " '337',\n",
       " '456',\n",
       " '0-58',\n",
       " '-3-3-2',\n",
       " '-124',\n",
       " '-4-21',\n",
       " '-5-12',\n",
       " '245',\n",
       " '0-10',\n",
       " '-5-4-4',\n",
       " '-5-20',\n",
       " '-404',\n",
       " '8-6-6',\n",
       " '-4-3-2',\n",
       " '534',\n",
       " '2-2-5',\n",
       " '-4-6-7',\n",
       " '532',\n",
       " '-6-68',\n",
       " '-327',\n",
       " '-5-2-1',\n",
       " '547',\n",
       " '369',\n",
       " '-305',\n",
       " '423',\n",
       " '01-1',\n",
       " '-3-78',\n",
       " '-1-1-5',\n",
       " '-3-5-6',\n",
       " '-6-3-1',\n",
       " '-5-3-4',\n",
       " '-4-13',\n",
       " '-228',\n",
       " '8-7-7',\n",
       " '344',\n",
       " '-403',\n",
       " '-2-20',\n",
       " '1-1-1',\n",
       " '2-1-6',\n",
       " '-7-5-6',\n",
       " '-4-2-3',\n",
       " '30-1',\n",
       " '0-4-6',\n",
       " '-3-48',\n",
       " '-314',\n",
       " '-1-78',\n",
       " '644',\n",
       " '-6-6-6',\n",
       " '543',\n",
       " '-2-3-3',\n",
       " '-5-21',\n",
       " '-5-13',\n",
       " '1-1-6',\n",
       " '8-6-7',\n",
       " '1-2-7',\n",
       " '-4-10',\n",
       " '325',\n",
       " '410',\n",
       " '878',\n",
       " '359',\n",
       " '767',\n",
       " '114',\n",
       " '-2-12',\n",
       " '1-48',\n",
       " '645',\n",
       " '-3-13',\n",
       " '-3-4-4',\n",
       " '133',\n",
       " '-149',\n",
       " '-7-7-7',\n",
       " '41-2',\n",
       " '201',\n",
       " '-128',\n",
       " '-7-5-4',\n",
       " '-3-2-5',\n",
       " '-6-4-3',\n",
       " '-2-1-4',\n",
       " '-237',\n",
       " '469',\n",
       " '467',\n",
       " '-1-11',\n",
       " '3-1-4',\n",
       " '431',\n",
       " '768',\n",
       " '-301',\n",
       " '0-2-2',\n",
       " '-688',\n",
       " '0-68',\n",
       " '-406',\n",
       " '102',\n",
       " '238',\n",
       " '-217',\n",
       " '146',\n",
       " '-788',\n",
       " '-248',\n",
       " '-7-4-5',\n",
       " '2-1-2',\n",
       " '-3-1-2',\n",
       " '42-1',\n",
       " '-4-4-4',\n",
       " '-6-30',\n",
       " '-6-5-7',\n",
       " '-5-4-3',\n",
       " '-5-30',\n",
       " '521',\n",
       " '312',\n",
       " '-3-6-7',\n",
       " '-6-3-2',\n",
       " '-6-3-3',\n",
       " '078',\n",
       " '-2-4-5',\n",
       " '003',\n",
       " '269',\n",
       " '-139',\n",
       " '0-38',\n",
       " '-3-21',\n",
       " '569',\n",
       " '0-2-7']"
      ]
     },
     "execution_count": 33,
     "metadata": {},
     "output_type": "execute_result"
    }
   ],
   "source": [
    "sorted(model, key=model.get, reverse=True)"
   ]
  },
  {
   "cell_type": "code",
   "execution_count": 41,
   "metadata": {},
   "outputs": [
    {
     "name": "stdout",
     "output_type": "stream",
     "text": [
      "/home/nachoaz/igarag/TFM/metrics\n"
     ]
    }
   ],
   "source": [
    "!pwd"
   ]
  },
  {
   "cell_type": "code",
   "execution_count": 26,
   "metadata": {
    "collapsed": true,
    "jupyter": {
     "outputs_hidden": true
    }
   },
   "outputs": [
    {
     "data": {
      "image/png": "[encoded data removed]",
      "text/plain": [
       "<Figure size 1080x960 with 1 Axes>"
      ]
     },
     "metadata": {},
     "output_type": "display_data"
    }
   ],
   "source": [
    "fig = plt.figure(figsize=(18, 16), dpi=60, facecolor='w', edgecolor='k')\n",
    "\n",
    "plt.bar(range(len(model)), list(model.values()), align='center')\n",
    "plt.xticks(range(len(model)), list(model.keys()))\n",
    "plt.show()"
   ]
  },
  {
   "cell_type": "code",
   "execution_count": 36,
   "metadata": {},
   "outputs": [
    {
     "data": {
      "text/plain": [
       "241"
      ]
     },
     "execution_count": 36,
     "metadata": {},
     "output_type": "execute_result"
    }
   ],
   "source": [
    "len(model)"
   ]
  },
  {
   "cell_type": "code",
   "execution_count": 30,
   "metadata": {},
   "outputs": [
    {
     "ename": "ValueError",
     "evalue": "px.imshow only accepts 2D single-channel, RGB or RGBA images. An image of shape () was provided",
     "output_type": "error",
     "traceback": [
      "\u001b[0;31m---------------------------------------------------------------------------\u001b[0m",
      "\u001b[0;31mValueError\u001b[0m                                Traceback (most recent call last)",
      "\u001b[0;32m<ipython-input-30-85156ecdb0df>\u001b[0m in \u001b[0;36m<module>\u001b[0;34m\u001b[0m\n\u001b[1;32m      3\u001b[0m \u001b[0;31m# df = px.data.medals_wide(indexed=True)\u001b[0m\u001b[0;34m\u001b[0m\u001b[0;34m\u001b[0m\u001b[0;34m\u001b[0m\u001b[0m\n\u001b[1;32m      4\u001b[0m \u001b[0;34m\u001b[0m\u001b[0m\n\u001b[0;32m----> 5\u001b[0;31m \u001b[0mfig\u001b[0m \u001b[0;34m=\u001b[0m \u001b[0mpx\u001b[0m\u001b[0;34m.\u001b[0m\u001b[0mimshow\u001b[0m\u001b[0;34m(\u001b[0m\u001b[0mmodel\u001b[0m\u001b[0;34m)\u001b[0m\u001b[0;34m\u001b[0m\u001b[0;34m\u001b[0m\u001b[0m\n\u001b[0m\u001b[1;32m      6\u001b[0m \u001b[0mfig\u001b[0m\u001b[0;34m.\u001b[0m\u001b[0mshow\u001b[0m\u001b[0;34m(\u001b[0m\u001b[0;34m)\u001b[0m\u001b[0;34m\u001b[0m\u001b[0;34m\u001b[0m\u001b[0m\n",
      "\u001b[0;32m~/.virtualenvs/super-venv/lib/python3.6/site-packages/plotly/express/_imshow.py\u001b[0m in \u001b[0;36mimshow\u001b[0;34m(img, zmin, zmax, origin, labels, x, y, color_continuous_scale, color_continuous_midpoint, range_color, title, template, width, height, aspect)\u001b[0m\n\u001b[1;32m    270\u001b[0m         raise ValueError(\n\u001b[1;32m    271\u001b[0m             \u001b[0;34m\"px.imshow only accepts 2D single-channel, RGB or RGBA images. \"\u001b[0m\u001b[0;34m\u001b[0m\u001b[0;34m\u001b[0m\u001b[0m\n\u001b[0;32m--> 272\u001b[0;31m             \u001b[0;34m\"An image of shape %s was provided\"\u001b[0m \u001b[0;34m%\u001b[0m \u001b[0mstr\u001b[0m\u001b[0;34m(\u001b[0m\u001b[0mimg\u001b[0m\u001b[0;34m.\u001b[0m\u001b[0mshape\u001b[0m\u001b[0;34m)\u001b[0m\u001b[0;34m\u001b[0m\u001b[0;34m\u001b[0m\u001b[0m\n\u001b[0m\u001b[1;32m    273\u001b[0m         )\n\u001b[1;32m    274\u001b[0m \u001b[0;34m\u001b[0m\u001b[0m\n",
      "\u001b[0;31mValueError\u001b[0m: px.imshow only accepts 2D single-channel, RGB or RGBA images. An image of shape () was provided"
     ]
    }
   ],
   "source": [
    "import plotly.express as px\n",
    "\n",
    "# df = px.data.medals_wide(indexed=True)\n",
    "\n",
    "fig = px.imshow(model)\n",
    "fig.show()"
   ]
  },
  {
   "cell_type": "code",
   "execution_count": null,
   "metadata": {},
   "outputs": [],
   "source": []
  },
  {
   "cell_type": "code",
   "execution_count": null,
   "metadata": {},
   "outputs": [],
   "source": []
  },
  {
   "cell_type": "code",
   "execution_count": null,
   "metadata": {},
   "outputs": [],
   "source": []
  },
  {
   "cell_type": "code",
   "execution_count": null,
   "metadata": {},
   "outputs": [],
   "source": []
  },
  {
   "cell_type": "code",
   "execution_count": null,
   "metadata": {},
   "outputs": [],
   "source": []
  },
  {
   "cell_type": "code",
   "execution_count": null,
   "metadata": {},
   "outputs": [],
   "source": []
  },
  {
   "cell_type": "code",
   "execution_count": null,
   "metadata": {},
   "outputs": [],
   "source": []
  },
  {
   "cell_type": "code",
   "execution_count": null,
   "metadata": {},
   "outputs": [],
   "source": []
  },
  {
   "cell_type": "code",
   "execution_count": null,
   "metadata": {},
   "outputs": [],
   "source": []
  },
  {
   "cell_type": "code",
   "execution_count": null,
   "metadata": {},
   "outputs": [],
   "source": []
  },
  {
   "cell_type": "markdown",
   "metadata": {},
   "source": [
    "# Experiments"
   ]
  },
  {
   "cell_type": "markdown",
   "metadata": {},
   "source": [
    "## 1 Punto circuito simple"
   ]
  },
  {
   "cell_type": "code",
   "execution_count": null,
   "metadata": {},
   "outputs": [],
   "source": [
    "import pickle\n",
    "import pprint\n",
    "import matplotlib.pyplot as plt\n",
    "\n",
    "file_name_no_abs = \"abs_20200905_1608_qlearn_circuit_simple_act_set_medium_e_0.14_epoch_500_states_dictionary.pkl\"\n",
    "file_name_with_abs = \"20200904_2329_qlearn_circuit_simple_act_set_medium_e_0.05_epoch_2250_states_dictionary.pkl\"\n",
    "qlearn_file = open(\"/home/nachoaz/igarag/TFM/2019-tfm-ignacio-arranz/gym-gazebo/agents/f1/logs/qlearn_models/\" + file_name_with_abs, 'rb')\n",
    "model = pickle.load(qlearn_file)\n",
    "\n",
    "pp = pprint.PrettyPrinter(indent=4)\n",
    "pp.pprint(model)\n",
    "\n",
    "dificult = [\"simple\", \"medium\", \"hard\"]\n",
    "folder = os.path.abspath(os.getcwd()) + \"/agents/f1/logs/qlearn_models/qlearn_camera_solved/\"\n",
    "print(folder)\n",
    "# for file in folder:\n",
    "    \n",
    "    # - entrar a los id_1, id_2\n",
    "    # - leer los pkl que contienen la palabra _diccionario\n",
    "    # - ¿limpiar?\n",
    "    # - evaluar"
   ]
  },
  {
   "cell_type": "code",
   "execution_count": 8,
   "metadata": {},
   "outputs": [
    {
     "name": "stdout",
     "output_type": "stream",
     "text": [
      "['points_1_actions_hard__simple_circuit', 'points_3_actions_hard__simple_circuit', 'points_3_actions_simple__simple_circuit', 'points_1_actions_simple.png', 'points_1_actions_medium__simple_circuit', 'points_1_actions_simple__simple_circuit', 'points_3_actions_medium__simple_circuit', 'points_5_actions_simple__simple_circuit']\n"
     ]
    }
   ],
   "source": [
    "import os\n",
    "\n",
    "\n",
    "dificult = [\"simple\", \"medium\", \"hard\"]\n",
    "folder = os.path.abspath(os.getcwd()) + \"/agents/f1/logs/qlearn_models/qlearn_camera_solved/\"\n",
    "print(os.listdir(folder))"
   ]
  },
  {
   "cell_type": "code",
   "execution_count": 3,
   "metadata": {},
   "outputs": [
    {
     "data": {
      "text/plain": [
       "'/home/nachoaz/igarag/TFM/2019-tfm-ignacio-arranz/gym-gazebo'"
      ]
     },
     "execution_count": 3,
     "metadata": {},
     "output_type": "execute_result"
    }
   ],
   "source": [
    "import os\n",
    "os.path.abspath(os.getcwd())"
   ]
  },
  {
   "cell_type": "code",
   "execution_count": null,
   "metadata": {},
   "outputs": [],
   "source": []
  },
  {
   "cell_type": "code",
   "execution_count": null,
   "metadata": {},
   "outputs": [],
   "source": []
  },
  {
   "cell_type": "code",
   "execution_count": null,
   "metadata": {},
   "outputs": [],
   "source": [
    "from pathlib import PathDD\n",
    "print(\"File      Path:\", Path(__file__).absolute())\n",
    "print(\"Directory Path:\", Path().absolute())  "
   ]
  },
  {
   "cell_type": "markdown",
   "metadata": {},
   "source": [
    "## ODOMETRIA"
   ]
  },
  {
   "cell_type": "code",
   "execution_count": 3,
   "metadata": {},
   "outputs": [
    {
     "name": "stdout",
     "output_type": "stream",
     "text": [
      "./agents/f1/logs/odometria_registros/manual_pilot_checkpoints.pkl\n",
      "./agents/f1/logs/odometria_registros/actions_simple_checkpoints.pkl\n",
      "[[0, (53.46, -10.73), '8'], [1, (53.48, -18.77), '4'], [2, (53.5, -27.05), '5'], [3, (53.51, -35.51), '0'], [4, (53.52, -44.07), '0'], [5, (49.72, -50.98), '1'], [6, (42.01, -49.98), '0'], [7, (39.72, -42.42), '0'], [8, (39.71, -34.07), '7'], [9, (38.67, -25.96), '9'], [10, (31.57, -23.1), '5'], [11, (23.61, -23.08), '0'], [12, (15.68, -23.06), '0'], [13, (7.64, -23.05), '0'], [14, (-0.14, -23.08), '1'], [15, (-6.12, -27.55), '0'], [16, (-6.61, -35.53), '3'], [17, (-10.02, -42.59), '7'], [18, (-16.92, -46.57), '7'], [19, (-25.09, -46.38), '0'], [20, (-32.99, -43.98), '7'], [21, (-40.03, -39.68), '2'], [22, (-45.91, -33.86), '6'], [23, (-50.2, -27.02), '3'], [24, (-52.86, -19.19), '8'], [25, (-53.65, -11.26), '1'], [26, (-52.62, -3.26), '4'], [27, (-49.69, 4.53), '4'], [28, (-45.04, 11.4), '7'], [29, (-38.82, 17.07), '4'], [30, (-31.67, 21.02), '0'], [31, (-24.05, 23.44), '5'], [32, (-16.04, 25.94), '1'], [33, (-8.3, 28.54), '9'], [34, (-0.45, 31.08), '3'], [35, (5.88, 35.73), '8'], [36, (6.29, 43.83), '8'], [37, (9.99, 50.96), '5'], [38, (17.63, 50.07), '5'], [39, (20.03, 42.38), '6'], [40, (21.06, 34.42), '7'], [41, (28.44, 31.82), '4'], [42, (32.78, 38.19), '7'], [43, (34.57, 46.05), '0'], [44, (42.49, 48.37), '8'], [45, (50.67, 46.79), '7'], [46, (53.47, 39.15), '0'], [47, (53.49, 30.75), '3'], [48, (53.5, 22.39), '3'], [49, (53.51, 13.85), '3'], [50, (53.52, 5.39), '3']]\n",
      "[[0, (53.38, -11.45), '8'], [1, (53.32, -18.0), '5'], [2, (53.32, -24.8), '2'], [3, (53.3, -31.52), '8'], [4, (53.3, -38.11), '0'], [5, (53.31, -44.83), '6'], [6, (50.7, -50.18), '4'], [7, (44.57, -51.27), '3'], [8, (40.22, -46.93), '6'], [9, (39.88, -40.18), '1'], [10, (39.9, -32.89), '2'], [11, (39.13, -26.43), '3'], [12, (34.0, -23.02), '5'], [13, (27.2, -22.93), '8'], [14, (20.2, -22.96), '5'], [15, (13.62, -22.94), '9'], [16, (6.55, -22.94), '8'], [17, (-0.59, -22.97), '1'], [18, (-5.56, -25.94), '1'], [19, (-6.6, -31.64), '2'], [20, (-7.46, -38.21), '6'], [21, (-11.12, -43.47), '5'], [22, (-16.82, -46.4), '8'], [23, (-23.6, -46.44), '8'], [24, (-30.19, -44.74), '9'], [25, (-36.28, -41.84), '5'], [26, (-41.66, -37.87), '8'], [27, (-45.85, -33.39), '0'], [28, (-49.35, -27.94), '9'], [29, (-51.78, -21.97), '0'], [30, (-53.15, -15.17), '0'], [31, (-53.16, -8.39), '6'], [32, (-51.79, -1.52), '0'], [33, (-48.97, 5.16), '1'], [34, (-45.63, 10.15), '2'], [35, (-40.88, 15.04), '1'], [36, (-35.24, 18.93), '7'], [37, (-29.31, 21.53), '9'], [38, (-23.41, 23.44), '9'], [39, (-16.78, 25.62), '9'], [40, (-9.78, 27.9), '3'], [41, (-4.15, 29.72), '2'], [42, (1.94, 31.68), '9'], [43, (6.14, 36.03), '2'], [44, (6.44, 42.62), '4'], [45, (7.88, 49.0), '5'], [46, (13.35, 51.59), '7'], [47, (18.55, 48.84), '2'], [48, (19.87, 42.8), '4'], [49, (20.21, 35.88), '1'], [50, (24.79, 31.54), '0'], [51, (30.73, 32.99), '3'], [52, (32.93, 38.73), '0'], [53, (34.09, 45.18), '0'], [54, (39.14, 48.15), '5'], [55, (46.53, 48.19), '7'], [56, (51.76, 45.5), '5'], [57, (53.3, 39.24), '9'], [58, (53.33, 32.03), '3'], [59, (53.3, 25.0), '8'], [60, (53.3, 18.37), '2'], [61, (53.33, 10.79), '5'], [62, (53.31, 3.49), '6']]\n"
     ]
    }
   ],
   "source": [
    "import os\n",
    "import pandas as pd\n",
    "import pickle\n",
    "import pprint\n",
    "import matplotlib.pyplot as plt\n",
    "\n",
    "data_path = \"./agents/f1/logs/odometria_registros/\"\n",
    "\n",
    "def read_pkl(file):\n",
    "    print(file)\n",
    "    qlearn_file = open(file, 'rb')\n",
    "    model = pickle.load(qlearn_file)\n",
    "    \n",
    "    return model\n",
    "\n",
    "\n",
    "manual = read_pkl(data_path + 'manual_pilot_checkpoints.pkl')\n",
    "rl_simple = read_pkl(data_path + 'actions_simple_checkpoints.pkl')\n",
    "\n",
    "dispay(manual)\n",
    "display(rl_simple)\n",
    "\n"
   ]
  }
 ],
 "metadata": {
  "kernelspec": {
   "display_name": "Python 3",
   "language": "python",
   "name": "python3"
  },
  "language_info": {
   "codemirror_mode": {
    "name": "ipython",
    "version": 3
   },
   "file_extension": ".py",
   "mimetype": "text/x-python",
   "name": "python",
   "nbconvert_exporter": "python",
   "pygments_lexer": "ipython3",
   "version": "3.6.9"
  }
 },
 "nbformat": 4,
 "nbformat_minor": 4
}
